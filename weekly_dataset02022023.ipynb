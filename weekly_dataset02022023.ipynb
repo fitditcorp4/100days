{
  "nbformat": 4,
  "nbformat_minor": 0,
  "metadata": {
    "colab": {
      "provenance": [],
      "authorship_tag": "ABX9TyMXLLLRUL3sBL5+yPhsHLJA",
      "include_colab_link": true
    },
    "kernelspec": {
      "name": "python3",
      "display_name": "Python 3"
    },
    "language_info": {
      "name": "python"
    }
  },
  "cells": [
    {
      "cell_type": "markdown",
      "metadata": {
        "id": "view-in-github",
        "colab_type": "text"
      },
      "source": [
        "<a href=\"https://colab.research.google.com/github/fitditcorp4/100days/blob/master/weekly_dataset02022023.ipynb\" target=\"_parent\"><img src=\"https://colab.research.google.com/assets/colab-badge.svg\" alt=\"Open In Colab\"/></a>"
      ]
    },
    {
      "cell_type": "code",
      "execution_count": 2,
      "metadata": {
        "id": "y-iUEG8KMJSN"
      },
      "outputs": [],
      "source": [
        "# imports library\n",
        "import pandas as pd\n",
        "import datetime as dt\n",
        "import matplotlib.pyplot as plt\n",
        "from matplotlib import pyplot\n",
        "import seaborn as sns\n",
        "import statsmodels.api as sm\n",
        "from sklearn.model_selection import train_test_split\n",
        "from sklearn.linear_model import LinearRegression\n",
        "from pandas.plotting import autocorrelation_plot\n",
        "from random import randrange\n",
        "from statsmodels.tsa.seasonal import seasonal_decompose\n",
        "#from pandas import datetime\n",
        "from datetime import datetime\n",
        "import numpy as np\n",
        "from pandas import read_json\n",
        "from pandas import read_csv\n",
        "from numpy import array\n",
        "import matplotlib.colors as colors\n",
        "import matplotlib.cm as cm\n",
        "from pylab import rcParams\n",
        "import warnings\n",
        "import itertools\n",
        "from pandas import Series\n",
        "# plt.style.use('fivethirtyeight')\n",
        "plt.style.use('classic')\n",
        "%matplotlib inline"
      ]
    },
    {
      "cell_type": "code",
      "source": [
        "pd.set_option('display.max_rows', 10000)\n",
        "pd.set_option('display.max_columns', 10000)\n",
        "pd.set_option('display.width', 1000)"
      ],
      "metadata": {
        "id": "9-CBvL_4N3dn"
      },
      "execution_count": 3,
      "outputs": []
    }
  ]
}